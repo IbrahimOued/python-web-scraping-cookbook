{
 "cells": [
  {
   "attachments": {},
   "cell_type": "markdown",
   "metadata": {},
   "source": [
    "# Processing data"
   ]
  },
  {
   "attachments": {},
   "cell_type": "markdown",
   "metadata": {},
   "source": [
    "## **Introduction**"
   ]
  },
  {
   "attachments": {},
   "cell_type": "markdown",
   "metadata": {},
   "source": [
    "In this chapter, we will introduce the use of data in JSON, CSV, and XML formats. This will include the means of parsing and converting this data to other formats, including storing that data in relational databases, search engines such as Elasticsearch, and cloud storage including AWS S3. We will also discuss the creation of distributed and large-scale scraping tasks through the use of messaging systems including AWS Simple Queue Service (SQS).  The goal is to provide both an understanding of the various forms of data you may retrieve and need to parse, and an instruction the the various backends where you can store the data you have scraped.  Finally, we get a first introduction to one and Amazon Web Service (AWS) offerings.  By the end of the book we will be getting quite heavy into AWS and this gives a gentle introduction."
   ]
  },
  {
   "attachments": {},
   "cell_type": "markdown",
   "metadata": {},
   "source": [
    "## **Working with CSV and JSON data**"
   ]
  },
  {
   "attachments": {},
   "cell_type": "markdown",
   "metadata": {},
   "source": [
    "Extracting data from HTML pages is done using the techniques in the previous chapter, primarily using XPath through various tools and also with Beautiful Soup. While we will focus primarily on HTML, HTML is a variant of XML (eXtensible Markup Language).  XML one was the most popular for  of expressing data on the web, but other have become popular, and even exceeded XML in popularity. \n",
    "\n",
    "Two common formats that you will see are **JSON (JavaScript Object Notation)** and **CSV (Comma Separated Values)**.  CSV is easy to create and a common form for many spreadsheet applications, so many web sites provide data in that for, or you will need to convert scraped data to that format for further storage or collaboration. JSON really has become the preferred format, due to its easy within programming languages such as JavaScript (and Python), and many database now support it as a native data format.\n",
    "\n",
    "In this recipe let's examine converting scraped data to CSV and JSON, as well as writing the data to files and also reading those data files from remote servers. The tools we will examine are the Python CSV and JSON libraries. We will also examine using pandas for these techniques.\n",
    "\n",
    "> Also implicit in these examples is the conversion of XML data to CSV and JSON, so we won't have a dedicated section for those examples."
   ]
  },
  {
   "attachments": {},
   "cell_type": "markdown",
   "metadata": {},
   "source": [
    "### **Getting ready**"
   ]
  },
  {
   "attachments": {},
   "cell_type": "markdown",
   "metadata": {},
   "source": [
    "We will be using the planets data page and converting that data into CSV and JSON files. Let's start by loading the planets data from the page into a list of python dictionary objects. "
   ]
  },
  {
   "cell_type": "code",
   "execution_count": 7,
   "metadata": {},
   "outputs": [
    {
     "name": "stdout",
     "output_type": "stream",
     "text": [
      "[{'Name': 'Mercury', 'Mass': '0.330', 'Radius': '4879', 'Description': 'Named Mercurius by the Romans because it appears to move so swiftly.', 'MoreInfo': 'https://en.wikipedia.org/wiki/Mercury_(planet)'}, {'Name': 'Venus', 'Mass': '4.87', 'Radius': '12104', 'Description': 'Roman name for the goddess of love. This planet was considered to be the brightest and most beautiful planet or star in the\\n                    heavens. Other civilizations have named it for their god or goddess of love/war.', 'MoreInfo': 'https://en.wikipedia.org/wiki/Venus'}, {'Name': 'Earth', 'Mass': '5.97', 'Radius': '12756', 'Description': \"The name Earth comes from the Indo-European base 'er,'which produced the Germanic noun 'ertho,' and ultimately German 'erde,'\\n                    Dutch 'aarde,' Scandinavian 'jord,' and English 'earth.' Related forms include Greek 'eraze,' meaning\\n                    'on the ground,' and Welsh 'erw,' meaning 'a piece of land.'\", 'MoreInfo': 'https://en.wikipedia.org/wiki/Earth'}, {'Name': 'Mars', 'Mass': '0.642', 'Radius': '6792', 'Description': 'Named by the Romans for their god of war because of its red, bloodlike color. Other civilizations also named this planet\\n                    from this attribute; for example, the Egyptians named it \"Her Desher,\" meaning \"the red one.\"', 'MoreInfo': 'https://en.wikipedia.org/wiki/Mars'}, {'Name': 'Jupiter', 'Mass': '1898', 'Radius': '142984', 'Description': 'The largest and most massive of the planets was named Zeus by the Greeks and Jupiter by the Romans; he was\\n                    the most important deity in both pantheons.', 'MoreInfo': 'https://en.wikipedia.org/wiki/Jupiter'}, {'Name': 'Saturn', 'Mass': '568', 'Radius': '120536', 'Description': 'Roman name for the Greek Cronos, father of Zeus/Jupiter. Other civilizations have given different names to Saturn, which\\n                    is the farthest planet from Earth that can be observed by the naked human eye. Most of its satellites\\n                    were named for Titans who, according to Greek mythology, were brothers and sisters of Saturn.', 'MoreInfo': 'https://en.wikipedia.org/wiki/Saturn'}, {'Name': 'Uranus', 'Mass': '86.8', 'Radius': '51118', 'Description': 'Several astronomers, including Flamsteed and Le Monnier, had observed Uranus earlier but had recorded it as a fixed star.\\n                    Herschel tried unsuccessfully to name his discovery \"Georgian Sidus\" after George III; the planet was\\n                    named by Johann Bode in 1781 after the ancient Greek deity of the sky Uranus, the father of Kronos (Saturn)\\n                    and grandfather of Zeus (Jupiter).', 'MoreInfo': 'https://en.wikipedia.org/wiki/Uranus'}, {'Name': 'Neptune', 'Mass': '102', 'Radius': '49528', 'Description': 'Neptune was \"predicted\" by John Couch Adams and Urbain Le Verrier who, independently, were able to account for the irregularities\\n                    in the motion of Uranus by correctly predicting the orbital elements of a trans- Uranian body. Using\\n                    the predicted parameters of Le Verrier (Adams never published his predictions), Johann Galle observed\\n                    the planet in 1846. Galle wanted to name the planet for Le Verrier, but that was not acceptable to the\\n                    international astronomical community. Instead, this planet is named for the Roman god of the sea.', 'MoreInfo': 'https://en.wikipedia.org/wiki/Neptune'}, {'Name': 'Pluto', 'Mass': '0.0146', 'Radius': '2370', 'Description': 'Pluto was discovered at Lowell Observatory in Flagstaff, AZ during a systematic search for a trans-Neptune planet predicted\\n                    by Percival Lowell and William H. Pickering. Named after the Roman god of the underworld who was able\\n                    to render himself invisible.', 'MoreInfo': 'https://en.wikipedia.org/wiki/Pluto'}]\n"
     ]
    }
   ],
   "source": [
    "import requests\n",
    "from bs4 import BeautifulSoup\n",
    "\n",
    "def get_planet_data():\n",
    "    html = requests.get(\"http://localhost:8080/planets.html\").text\n",
    "    soup = BeautifulSoup(html, \"lxml\")\n",
    "\n",
    "    planets_trs = soup.html.body.div.table.findAll(\"tr\", {\"class\": \"planet\"})\n",
    "\n",
    "    def to_dict(tr):\n",
    "        tds = tr.findAll(\"td\")\n",
    "        planet_data = dict()\n",
    "        planet_data['Name'] = tds[1].text.strip()\n",
    "        planet_data['Mass'] = tds[2].text.strip()\n",
    "        planet_data['Radius'] = tds[3].text.strip()\n",
    "        planet_data['Description'] = tds[4].text.strip()\n",
    "        planet_data['MoreInfo'] = tds[5].findAll(\"a\")[0][\"href\"].strip()\n",
    "        return planet_data\n",
    "    \n",
    "    planets = [to_dict(tr) for tr in planets_trs]\n",
    "    return planets\n",
    "\n",
    "if __name__ == \"__main__\":\n",
    "    print(get_planet_data())"
   ]
  },
  {
   "cell_type": "markdown",
   "metadata": {},
   "source": [
    "### **How to do it**"
   ]
  },
  {
   "cell_type": "code",
   "execution_count": 10,
   "metadata": {},
   "outputs": [],
   "source": [
    "import csv\n",
    "# if importing from another file\n",
    "# from get_planet_data import get_planet_data\n",
    "\n",
    "planets = get_planet_data()\n",
    "\n",
    "with open('./artefacts/planets.csv', 'w+', newline='') as csvFile:\n",
    "    writer = csv.writer(csvFile)\n",
    "    writer.writerow(['Name', 'Mass', 'Radius', 'Description', 'MoreInfo'])\n",
    "    for planet in planets:\n",
    "        writer.writerow([planet['Name'], planet['Mass'],planet['Radius'], planet['Description'], planet['MoreInfo']])"
   ]
  },
  {
   "attachments": {},
   "cell_type": "markdown",
   "metadata": {},
   "source": [
    "CSV data can also be read from a web server using the csv library and by first retrieving the content with requests"
   ]
  },
  {
   "cell_type": "code",
   "execution_count": 11,
   "metadata": {},
   "outputs": [
    {
     "name": "stdout",
     "output_type": "stream",
     "text": [
      "['Name', 'Mass', 'Radius', 'Description', 'MoreInfo']\n",
      "['Mercury', '0.330', '4879', 'Named Mercurius by the Romans because it appears to move so swiftly.', 'https://en.wikipedia.org/wiki/Mercury_(planet)']\n",
      "['Venus', '4.87', '12104', 'Roman name for the goddess of love. This planet was considered to be the brightest and most beautiful planet or star in the                    heavens. Other civilizations have named it for their god or goddess of love/war.', 'https://en.wikipedia.org/wiki/Venus']\n",
      "['Earth', '5.97', '12756', \"The name Earth comes from the Indo-European base 'er,'which produced the Germanic noun 'ertho,' and ultimately German 'erde,'                    Dutch 'aarde,' Scandinavian 'jord,' and English 'earth.' Related forms include Greek 'eraze,' meaning                    'on the ground,' and Welsh 'erw,' meaning 'a piece of land.'\", 'https://en.wikipedia.org/wiki/Earth']\n",
      "['Mars', '0.642', '6792', 'Named by the Romans for their god of war because of its red, bloodlike color. Other civilizations also named this planet                    from this attribute; for example, the Egyptians named it \"Her Desher,\" meaning \"the red one.\"', 'https://en.wikipedia.org/wiki/Mars']\n",
      "['Jupiter', '1898', '142984', 'The largest and most massive of the planets was named Zeus by the Greeks and Jupiter by the Romans; he was                    the most important deity in both pantheons.', 'https://en.wikipedia.org/wiki/Jupiter']\n",
      "['Saturn', '568', '120536', 'Roman name for the Greek Cronos, father of Zeus/Jupiter. Other civilizations have given different names to Saturn, which                    is the farthest planet from Earth that can be observed by the naked human eye. Most of its satellites                    were named for Titans who, according to Greek mythology, were brothers and sisters of Saturn.', 'https://en.wikipedia.org/wiki/Saturn']\n",
      "['Uranus', '86.8', '51118', 'Several astronomers, including Flamsteed and Le Monnier, had observed Uranus earlier but had recorded it as a fixed star.                    Herschel tried unsuccessfully to name his discovery \"Georgian Sidus\" after George III; the planet was                    named by Johann Bode in 1781 after the ancient Greek deity of the sky Uranus, the father of Kronos (Saturn)                    and grandfather of Zeus (Jupiter).', 'https://en.wikipedia.org/wiki/Uranus']\n",
      "['Neptune', '102', '49528', 'Neptune was \"predicted\" by John Couch Adams and Urbain Le Verrier who, independently, were able to account for the irregularities                    in the motion of Uranus by correctly predicting the orbital elements of a trans- Uranian body. Using                    the predicted parameters of Le Verrier (Adams never published his predictions), Johann Galle observed                    the planet in 1846. Galle wanted to name the planet for Le Verrier, but that was not acceptable to the                    international astronomical community. Instead, this planet is named for the Roman god of the sea.', 'https://en.wikipedia.org/wiki/Neptune']\n",
      "['Pluto', '0.0146', '2370', 'Pluto was discovered at Lowell Observatory in Flagstaff, AZ during a systematic search for a trans-Neptune planet predicted                    by Percival Lowell and William H. Pickering. Named after the Roman god of the underworld who was able                    to render himself invisible.', 'https://en.wikipedia.org/wiki/Pluto']\n"
     ]
    }
   ],
   "source": [
    "import requests\n",
    "import csv\n",
    "\n",
    "planets_data = requests.get(\"http://localhost:8080/planets.csv\").text\n",
    "planets = planets_data.split('\\n')\n",
    "reader = csv.reader(planets, delimiter=',', quotechar='\"')\n",
    "lines = [line for line in reader][:-1]\n",
    "for line in lines: print(line)"
   ]
  },
  {
   "cell_type": "code",
   "execution_count": 13,
   "metadata": {},
   "outputs": [
    {
     "data": {
      "text/plain": [
       "[]"
      ]
     },
     "execution_count": 13,
     "metadata": {},
     "output_type": "execute_result"
    }
   ],
   "source": [
    "# One thing to point our is that the CSV writer left a trailing blank like would add an\n",
    "# empty list item if not handled. This was handled by slicing the rows: This following\n",
    "# statement returned all lines except the last one: \n",
    "lines = [line for line in reader][:-1]"
   ]
  },
  {
   "attachments": {},
   "cell_type": "markdown",
   "metadata": {},
   "source": [
    "This can also be done quite easily using pandas."
   ]
  },
  {
   "cell_type": "code",
   "execution_count": 14,
   "metadata": {},
   "outputs": [
    {
     "name": "stdout",
     "output_type": "stream",
     "text": [
      "                                               Description       Mass  \\\n",
      "Name                                                                    \n",
      "Mercury  Named Mercurius by the Romans because it appea...     0.3300   \n",
      "Venus    Roman name for the goddess of love. This plane...     4.8700   \n",
      "Earth    The name Earth comes from the Indo-European ba...     5.9700   \n",
      "Mars     Named by the Romans for their god of war becau...     0.6420   \n",
      "Jupiter  The largest and most massive of the planets wa...  1898.0000   \n",
      "Saturn   Roman name for the Greek Cronos, father of Zeu...   568.0000   \n",
      "Uranus   Several astronomers, including Flamsteed and L...    86.8000   \n",
      "Neptune  Neptune was \"predicted\" by John Couch Adams an...   102.0000   \n",
      "Pluto    Pluto was discovered at Lowell Observatory in ...     0.0146   \n",
      "\n",
      "                                               MoreInfo  Radius  \n",
      "Name                                                             \n",
      "Mercury  https://en.wikipedia.org/wiki/Mercury_(planet)    4879  \n",
      "Venus               https://en.wikipedia.org/wiki/Venus   12104  \n",
      "Earth               https://en.wikipedia.org/wiki/Earth   12756  \n",
      "Mars                 https://en.wikipedia.org/wiki/Mars    6792  \n",
      "Jupiter           https://en.wikipedia.org/wiki/Jupiter  142984  \n",
      "Saturn             https://en.wikipedia.org/wiki/Saturn  120536  \n",
      "Uranus             https://en.wikipedia.org/wiki/Uranus   51118  \n",
      "Neptune           https://en.wikipedia.org/wiki/Neptune   49528  \n",
      "Pluto               https://en.wikipedia.org/wiki/Pluto    2370  \n"
     ]
    }
   ],
   "source": [
    "\n",
    "import pandas as pd\n",
    "planets_df = pd.read_csv(\"http://localhost:8080/planets_pandas.csv\", index_col='Name')\n",
    "print(planets_df)"
   ]
  },
  {
   "attachments": {},
   "cell_type": "markdown",
   "metadata": {},
   "source": [
    "And the DataFrame can be saved to a CSV file with a simple call to `.to_csv()`"
   ]
  },
  {
   "cell_type": "code",
   "execution_count": 15,
   "metadata": {},
   "outputs": [],
   "source": [
    "import pandas as pd\n",
    "\n",
    "# construct a data from from the list\n",
    "planets = get_planet_data()\n",
    "planets_df = pd.DataFrame(planets).set_index('Name')\n",
    "planets_df.to_csv(\"./artefacts/planets_pandas.csv\")"
   ]
  },
  {
   "attachments": {},
   "cell_type": "markdown",
   "metadata": {},
   "source": [
    "A CSV file can be read in from a URL very easily with `pd.read_csv()` - no need for other libraries."
   ]
  },
  {
   "cell_type": "code",
   "execution_count": 16,
   "metadata": {},
   "outputs": [
    {
     "name": "stdout",
     "output_type": "stream",
     "text": [
      "                                               Description       Mass  \\\n",
      "Name                                                                    \n",
      "Mercury  Named Mercurius by the Romans because it appea...     0.3300   \n",
      "Venus    Roman name for the goddess of love. This plane...     4.8700   \n",
      "Earth    The name Earth comes from the Indo-European ba...     5.9700   \n",
      "Mars     Named by the Romans for their god of war becau...     0.6420   \n",
      "Jupiter  The largest and most massive of the planets wa...  1898.0000   \n",
      "Saturn   Roman name for the Greek Cronos, father of Zeu...   568.0000   \n",
      "Uranus   Several astronomers, including Flamsteed and L...    86.8000   \n",
      "Neptune  Neptune was \"predicted\" by John Couch Adams an...   102.0000   \n",
      "Pluto    Pluto was discovered at Lowell Observatory in ...     0.0146   \n",
      "\n",
      "                                               MoreInfo  Radius  \n",
      "Name                                                             \n",
      "Mercury  https://en.wikipedia.org/wiki/Mercury_(planet)    4879  \n",
      "Venus               https://en.wikipedia.org/wiki/Venus   12104  \n",
      "Earth               https://en.wikipedia.org/wiki/Earth   12756  \n",
      "Mars                 https://en.wikipedia.org/wiki/Mars    6792  \n",
      "Jupiter           https://en.wikipedia.org/wiki/Jupiter  142984  \n",
      "Saturn             https://en.wikipedia.org/wiki/Saturn  120536  \n",
      "Uranus             https://en.wikipedia.org/wiki/Uranus   51118  \n",
      "Neptune           https://en.wikipedia.org/wiki/Neptune   49528  \n",
      "Pluto               https://en.wikipedia.org/wiki/Pluto    2370  \n"
     ]
    }
   ],
   "source": [
    "\n",
    "import pandas as pd\n",
    "planets_df = pd.read_csv(\"http://localhost:8080/planets_pandas.csv\", index_col='Name')\n",
    "print(planets_df)"
   ]
  },
  {
   "attachments": {},
   "cell_type": "markdown",
   "metadata": {},
   "source": [
    "Converting data to JSON is also quite easy. Manipulation of JSON with Python can be done with the Python json library. This library can be used to convert Python objects to and from JSON. The following converts the list of planets into JSON and prints it to the console."
   ]
  },
  {
   "cell_type": "code",
   "execution_count": 17,
   "metadata": {},
   "outputs": [
    {
     "name": "stdout",
     "output_type": "stream",
     "text": [
      "[\n",
      "    {\n",
      "        \"Name\": \"Mercury\",\n",
      "        \"Mass\": \"0.330\",\n",
      "        \"Radius\": \"4879\",\n",
      "        \"Description\": \"Named Mercurius by the Romans because it appears to move so swiftly.\",\n",
      "        \"MoreInfo\": \"https://en.wikipedia.org/wiki/Mercury_(planet)\"\n",
      "    },\n",
      "    {\n",
      "        \"Name\": \"Venus\",\n",
      "        \"Mass\": \"4.87\",\n",
      "        \"Radius\": \"12104\",\n",
      "        \"Description\": \"Roman name for the goddess of love. This planet was considered to be the brightest and most beautiful planet or star in the\\n                    heavens. Other civilizations have named it for their god or goddess of love/war.\",\n",
      "        \"MoreInfo\": \"https://en.wikipedia.org/wiki/Venus\"\n",
      "    },\n",
      "    {\n",
      "        \"Name\": \"Earth\",\n",
      "        \"Mass\": \"5.97\",\n",
      "        \"Radius\": \"12756\",\n",
      "        \"Description\": \"The name Earth comes from the Indo-European base 'er,'which produced the Germanic noun 'ertho,' and ultimately German 'erde,'\\n                    Dutch 'aarde,' Scandinavian 'jord,' and English 'earth.' Related forms include Greek 'eraze,' meaning\\n                    'on the ground,' and Welsh 'erw,' meaning 'a piece of land.'\",\n",
      "        \"MoreInfo\": \"https://en.wikipedia.org/wiki/Earth\"\n",
      "    },\n",
      "    {\n",
      "        \"Name\": \"Mars\",\n",
      "        \"Mass\": \"0.642\",\n",
      "        \"Radius\": \"6792\",\n",
      "        \"Description\": \"Named by the Romans for their god of war because of its red, bloodlike color. Other civilizations also named this planet\\n                    from this attribute; for example, the Egyptians named it \\\"Her Desher,\\\" meaning \\\"the red one.\\\"\",\n",
      "        \"MoreInfo\": \"https://en.wikipedia.org/wiki/Mars\"\n",
      "    },\n",
      "    {\n",
      "        \"Name\": \"Jupiter\",\n",
      "        \"Mass\": \"1898\",\n",
      "        \"Radius\": \"142984\",\n",
      "        \"Description\": \"The largest and most massive of the planets was named Zeus by the Greeks and Jupiter by the Romans; he was\\n                    the most important deity in both pantheons.\",\n",
      "        \"MoreInfo\": \"https://en.wikipedia.org/wiki/Jupiter\"\n",
      "    },\n",
      "    {\n",
      "        \"Name\": \"Saturn\",\n",
      "        \"Mass\": \"568\",\n",
      "        \"Radius\": \"120536\",\n",
      "        \"Description\": \"Roman name for the Greek Cronos, father of Zeus/Jupiter. Other civilizations have given different names to Saturn, which\\n                    is the farthest planet from Earth that can be observed by the naked human eye. Most of its satellites\\n                    were named for Titans who, according to Greek mythology, were brothers and sisters of Saturn.\",\n",
      "        \"MoreInfo\": \"https://en.wikipedia.org/wiki/Saturn\"\n",
      "    },\n",
      "    {\n",
      "        \"Name\": \"Uranus\",\n",
      "        \"Mass\": \"86.8\",\n",
      "        \"Radius\": \"51118\",\n",
      "        \"Description\": \"Several astronomers, including Flamsteed and Le Monnier, had observed Uranus earlier but had recorded it as a fixed star.\\n                    Herschel tried unsuccessfully to name his discovery \\\"Georgian Sidus\\\" after George III; the planet was\\n                    named by Johann Bode in 1781 after the ancient Greek deity of the sky Uranus, the father of Kronos (Saturn)\\n                    and grandfather of Zeus (Jupiter).\",\n",
      "        \"MoreInfo\": \"https://en.wikipedia.org/wiki/Uranus\"\n",
      "    },\n",
      "    {\n",
      "        \"Name\": \"Neptune\",\n",
      "        \"Mass\": \"102\",\n",
      "        \"Radius\": \"49528\",\n",
      "        \"Description\": \"Neptune was \\\"predicted\\\" by John Couch Adams and Urbain Le Verrier who, independently, were able to account for the irregularities\\n                    in the motion of Uranus by correctly predicting the orbital elements of a trans- Uranian body. Using\\n                    the predicted parameters of Le Verrier (Adams never published his predictions), Johann Galle observed\\n                    the planet in 1846. Galle wanted to name the planet for Le Verrier, but that was not acceptable to the\\n                    international astronomical community. Instead, this planet is named for the Roman god of the sea.\",\n",
      "        \"MoreInfo\": \"https://en.wikipedia.org/wiki/Neptune\"\n",
      "    },\n",
      "    {\n",
      "        \"Name\": \"Pluto\",\n",
      "        \"Mass\": \"0.0146\",\n",
      "        \"Radius\": \"2370\",\n",
      "        \"Description\": \"Pluto was discovered at Lowell Observatory in Flagstaff, AZ during a systematic search for a trans-Neptune planet predicted\\n                    by Percival Lowell and William H. Pickering. Named after the Roman god of the underworld who was able\\n                    to render himself invisible.\",\n",
      "        \"MoreInfo\": \"https://en.wikipedia.org/wiki/Pluto\"\n",
      "    }\n",
      "]\n"
     ]
    }
   ],
   "source": [
    "import json\n",
    "\n",
    "planets = get_planet_data()\n",
    "print(json.dumps(planets, indent=4))"
   ]
  },
  {
   "cell_type": "code",
   "execution_count": 21,
   "metadata": {},
   "outputs": [],
   "source": [
    "import json\n",
    "\n",
    "planets=get_planet_data()\n",
    "with open('./artefacts/planets.json', 'w+') as jsonFile:\n",
    "   json.dump(planets, jsonFile, indent=4)"
   ]
  },
  {
   "cell_type": "code",
   "execution_count": 23,
   "metadata": {},
   "outputs": [
    {
     "name": "stdout",
     "output_type": "stream",
     "text": [
      "[\n",
      "    {\n",
      "        \"Name\": \"Mercury\",\n",
      "        \"Mass\": \"0.330\",\n",
      "        \"Radius\": \"4879\",\n",
      "        \"Description\": \"Named Mercurius by the Romans because it appears to move so swiftly.\",\n",
      "        \"MoreInfo\": \"https://en.wikipedia.org/wiki/Mercury_(planet)\"\n",
      "    },\n",
      "    {\n",
      "        \"Name\": \"Venus\",\n",
      "        \"Mass\": \"4.87\",\n",
      "        \"Radius\": \"12104\",\n",
      "        \"Description\": \"Roman name for the goddess of love. This planet was considered to be the brightest and most beautiful planet or star in the\\n                    heavens. Other civilizations have named it for their god or goddess of love/war.\",\n"
     ]
    }
   ],
   "source": [
    "!head -n 13 ./artefacts/planets.json"
   ]
  },
  {
   "attachments": {},
   "cell_type": "markdown",
   "metadata": {},
   "source": [
    "JSON can be read from a web server with requests and converted to a Python object:"
   ]
  },
  {
   "cell_type": "code",
   "execution_count": 24,
   "metadata": {},
   "outputs": [
    {
     "name": "stdout",
     "output_type": "stream",
     "text": [
      "[{'Name': 'Mercury', 'Mass': '0.330', 'Radius': '4879', 'Description': 'Named Mercurius by the Romans because it appears to move so swiftly.', 'MoreInfo': 'https://en.wikipedia.org/wiki/Mercury_(planet)'}, {'Name': 'Venus', 'Mass': '4.87', 'Radius': '12104', 'Description': 'Roman name for the goddess of love. This planet was considered to be the brightest and most beautiful planet or star in the heavens. Other civilizations have named it for their god or goddess of love/war.', 'MoreInfo': 'https://en.wikipedia.org/wiki/Venus'}, {'Name': 'Earth', 'Mass': '5.97', 'Radius': '12756', 'Description': \"The name Earth comes from the Indo-European base 'er,'which produced the Germanic noun 'ertho,' and ultimately German 'erde,' Dutch 'aarde,' Scandinavian 'jord,' and English 'earth.' Related forms include Greek 'eraze,' meaning 'on the ground,' and Welsh 'erw,' meaning 'a piece of land.'\", 'MoreInfo': 'https://en.wikipedia.org/wiki/Earth'}, {'Name': 'Mars', 'Mass': '0.642', 'Radius': '6792', 'Description': 'Named by the Romans for their god of war because of its red, bloodlike color. Other civilizations also named this planet from this attribute; for example, the Egyptians named it \"Her Desher,\" meaning \"the red one.\"', 'MoreInfo': 'https://en.wikipedia.org/wiki/Mars'}, {'Name': 'Jupiter', 'Mass': '1898', 'Radius': '142984', 'Description': 'The largest and most massive of the planets was named Zeus by the Greeks and Jupiter by the Romans; he was the most important deity in both pantheons.', 'MoreInfo': 'https://en.wikipedia.org/wiki/Jupiter'}, {'Name': 'Saturn', 'Mass': '568', 'Radius': '120536', 'Description': 'Roman name for the Greek Cronos, father of Zeus/Jupiter. Other civilizations have given different names to Saturn, which is the farthest planet from Earth that can be observed by the naked human eye. Most of its satellites were named for Titans who, according to Greek mythology, were brothers and sisters of Saturn.', 'MoreInfo': 'https://en.wikipedia.org/wiki/Saturn'}, {'Name': 'Uranus', 'Mass': '86.8', 'Radius': '51118', 'Description': 'Several astronomers, including Flamsteed and Le Monnier, had observed Uranus earlier but had recorded it as a fixed star. Herschel tried unsuccessfully to name his discovery \"Georgian Sidus\" after George III; the planet was named by Johann Bode in 1781 after the ancient Greek deity of the sky Uranus, the father of Kronos (Saturn) and grandfather of Zeus (Jupiter).', 'MoreInfo': 'https://en.wikipedia.org/wiki/Uranus'}, {'Name': 'Neptune', 'Mass': '102', 'Radius': '49528', 'Description': 'Neptune was \"predicted\" by John Couch Adams and Urbain Le Verrier who, independently, were able to account for the irregularities in the motion of Uranus by correctly predicting the orbital elements of a trans- Uranian body. Using the predicted parameters of Le Verrier (Adams never published his predictions), Johann Galle observed the planet in 1846. Galle wanted to name the planet for Le Verrier, but that was not acceptable to the international astronomical community. Instead, this planet is named for the Roman god of the sea.', 'MoreInfo': 'https://en.wikipedia.org/wiki/Neptune'}, {'Name': 'Pluto', 'Mass': '0.0146', 'Radius': '2370', 'Description': 'Pluto was discovered at Lowell Observatory in Flagstaff, AZ during a systematic search for a trans-Neptune planet predicted by Percival Lowell and William H. Pickering. Named after the Roman god of the underworld who was able to render himself invisible.', 'MoreInfo': 'https://en.wikipedia.org/wiki/Pluto'}]\n"
     ]
    }
   ],
   "source": [
    "import requests\n",
    "import json\n",
    "\n",
    "planets_request = requests.get(\"http://localhost:8080/planets.json\")\n",
    "print(json.loads(planets_request.text))"
   ]
  },
  {
   "attachments": {},
   "cell_type": "markdown",
   "metadata": {},
   "source": [
    "pandas also provides JSON capabilities to save to CSV:"
   ]
  },
  {
   "cell_type": "code",
   "execution_count": 25,
   "metadata": {},
   "outputs": [],
   "source": [
    "import pandas as pd\n",
    "\n",
    "planets = get_planet_data()\n",
    "planets_df = pd.DataFrame(planets).set_index('Name')\n",
    "planets_df.reset_index().to_json(\"./artefacts/planets_pandas.json\", orient='records')"
   ]
  },
  {
   "attachments": {},
   "cell_type": "markdown",
   "metadata": {},
   "source": [
    "Unfortunately, there is not currently a way to pretty-print the JSON that is output from `.to_json()`. Also note the use of orient='records' and the use of `rest_index()`. This is necessary for reproducing an identical JSON structure to the JSON written using the JSON library example.\n",
    "\n",
    "JSON can be read into a DataFrame using `.read_json()`, as well as from HTTP and files"
   ]
  },
  {
   "cell_type": "code",
   "execution_count": 26,
   "metadata": {},
   "outputs": [
    {
     "name": "stdout",
     "output_type": "stream",
     "text": [
      "                                               Description       Mass  \\\n",
      "Name                                                                    \n",
      "Mercury  Named Mercurius by the Romans because it appea...     0.3300   \n",
      "Venus    Roman name for the goddess of love. This plane...     4.8700   \n",
      "Earth    The name Earth comes from the Indo-European ba...     5.9700   \n",
      "Mars     Named by the Romans for their god of war becau...     0.6420   \n",
      "Jupiter  The largest and most massive of the planets wa...  1898.0000   \n",
      "Saturn   Roman name for the Greek Cronos, father of Zeu...   568.0000   \n",
      "Uranus   Several astronomers, including Flamsteed and L...    86.8000   \n",
      "Neptune  Neptune was \"predicted\" by John Couch Adams an...   102.0000   \n",
      "Pluto    Pluto was discovered at Lowell Observatory in ...     0.0146   \n",
      "\n",
      "                                               MoreInfo  Radius  \n",
      "Name                                                             \n",
      "Mercury  https://en.wikipedia.org/wiki/Mercury_(planet)    4879  \n",
      "Venus               https://en.wikipedia.org/wiki/Venus   12104  \n",
      "Earth               https://en.wikipedia.org/wiki/Earth   12756  \n",
      "Mars                 https://en.wikipedia.org/wiki/Mars    6792  \n",
      "Jupiter           https://en.wikipedia.org/wiki/Jupiter  142984  \n",
      "Saturn             https://en.wikipedia.org/wiki/Saturn  120536  \n",
      "Uranus             https://en.wikipedia.org/wiki/Uranus   51118  \n",
      "Neptune           https://en.wikipedia.org/wiki/Neptune   49528  \n",
      "Pluto               https://en.wikipedia.org/wiki/Pluto    2370  \n"
     ]
    }
   ],
   "source": [
    "import pandas as pd\n",
    "planets_df = pd.read_json(\"http://localhost:8080/planets_pandas.json\").set_index('Name')\n",
    "print(planets_df)"
   ]
  }
 ],
 "metadata": {
  "kernelspec": {
   "display_name": "scraping",
   "language": "python",
   "name": "python3"
  },
  "language_info": {
   "codemirror_mode": {
    "name": "ipython",
    "version": 3
   },
   "file_extension": ".py",
   "mimetype": "text/x-python",
   "name": "python",
   "nbconvert_exporter": "python",
   "pygments_lexer": "ipython3",
   "version": "3.10.8"
  },
  "orig_nbformat": 4,
  "vscode": {
   "interpreter": {
    "hash": "e2e900357f7d7f0420973cc0a3db668cd1358155e01ada4ae7b047d426ff3a9e"
   }
  }
 },
 "nbformat": 4,
 "nbformat_minor": 2
}
