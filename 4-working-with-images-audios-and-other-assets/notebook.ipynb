{
 "cells": [
  {
   "attachments": {},
   "cell_type": "markdown",
   "metadata": {},
   "source": [
    "# Working with images, audio, and other assets"
   ]
  },
  {
   "attachments": {},
   "cell_type": "markdown",
   "metadata": {},
   "source": [
    "## **Introduction**"
   ]
  },
  {
   "attachments": {},
   "cell_type": "markdown",
   "metadata": {},
   "source": [
    "A common practice in scraping is the download, storage, and further processing of media content (non-web pages or data files). This media can include images, audio, and video.  To store the content locally (or in a service like S3) and do it correctly, we need to know what the type of media is, and it's not enough to trust the file extension in the URL.  We will learn how to download and correctly represent the media type based on information from the web server.\n",
    "\n",
    "Another common task is the generation of thumbnails of images, videos, or even a page of a website.  We will examine several techniques of how to generate thumbnails and make website page screenshots.  Many times these are used on a new website as thumbnail links to the scraped media that is now stored locally.\n",
    "\n",
    "Finally, it is often the need to be able to transcode media, such as converting non-MP4 videos to MP4, or changing the bit-rate or resolution of a video.  Another scenario is to extract only the audio from a video file.  We won't look at video transcoding, but we will rip MP3 audio out of an MP4 file using ffmpeg.  It's a simple step from there to also transcode video with ffmpeg."
   ]
  },
  {
   "attachments": {},
   "cell_type": "markdown",
   "metadata": {},
   "source": [
    "## **Downloading media content from the web**"
   ]
  },
  {
   "attachments": {},
   "cell_type": "markdown",
   "metadata": {},
   "source": [
    "Downloading media content from the web is a simple process: use Requests or another library and download it just like you would HTML content."
   ]
  },
  {
   "attachments": {},
   "cell_type": "markdown",
   "metadata": {},
   "source": [
    "### **Getting ready**"
   ]
  },
  {
   "attachments": {},
   "cell_type": "markdown",
   "metadata": {},
   "source": [
    "There is a class named `URLUtility` in the `urls.py` mdoule in the util folder of the solution.  This class handles several of the scenarios in this chapter with downloading and parsing URLs. We will be using this class in this recipe and a few others"
   ]
  },
  {
   "attachments": {},
   "cell_type": "markdown",
   "metadata": {},
   "source": [
    "### **How to do it**"
   ]
  },
  {
   "cell_type": "code",
   "execution_count": 1,
   "metadata": {},
   "outputs": [
    {
     "name": "stdout",
     "output_type": "stream",
     "text": [
      "Reading URL: https://apod.nasa.gov/apod/image/1709/BT5643s.jpg\n",
      "Read 171014 bytes\n",
      "171014\n"
     ]
    }
   ],
   "source": [
    "import const\n",
    "from urls import URLUtility\n",
    "\n",
    "util = URLUtility(const.ApodEclipseImage())\n",
    "print(len(util.data))"
   ]
  },
  {
   "attachments": {},
   "cell_type": "markdown",
   "metadata": {},
   "source": [
    "## **Parsing a URL with urllib to get the filename**"
   ]
  },
  {
   "attachments": {},
   "cell_type": "markdown",
   "metadata": {},
   "source": [
    "When downloading content from a URL, we often want to save it in a file.  Often it is good enough to save the file in a file with a name found in the URL.  But the URL consists of a number of fragments, so how can we find the actual filename from the URL, especially where there are often many parameters after the file name?"
   ]
  },
  {
   "attachments": {},
   "cell_type": "markdown",
   "metadata": {},
   "source": [
    "### **How to do it**"
   ]
  },
  {
   "cell_type": "code",
   "execution_count": 2,
   "metadata": {},
   "outputs": [
    {
     "name": "stdout",
     "output_type": "stream",
     "text": [
      "Reading URL: https://apod.nasa.gov/apod/image/1709/BT5643s.jpg\n",
      "Read 171014 bytes\n",
      "BT5643s\n"
     ]
    }
   ],
   "source": [
    "util = URLUtility(const.ApodEclipseImage())\n",
    "print(util.filename_without_ext)"
   ]
  },
  {
   "attachments": {},
   "cell_type": "markdown",
   "metadata": {},
   "source": [
    "### **How it works**"
   ]
  },
  {
   "cell_type": "code",
   "execution_count": 3,
   "metadata": {},
   "outputs": [
    {
     "data": {
      "text/plain": [
       "ParseResult(scheme='https', netloc='apod.nasa.gov', path='/apod/image/1709/BT5643s.jpg', params='', query='', fragment='')"
      ]
     },
     "execution_count": 3,
     "metadata": {},
     "output_type": "execute_result"
    }
   ],
   "source": [
    "from urllib.parse import urlparse\n",
    "\n",
    "\n",
    "parsed = urlparse(const.ApodEclipseImage())\n",
    "parsed"
   ]
  },
  {
   "attachments": {},
   "cell_type": "markdown",
   "metadata": {},
   "source": [
    "In the constructor for URLUtility, there is a call to urlib.parse.urlparse.  The following demonstrates using the function interactively:\n",
    "\n",
    "```py\n",
    "parsed = urlparse(const.ApodEclipseImage())\n",
    "parsed\n",
    "```\n",
    "```bash\n",
    "ParseResult(scheme='https', netloc='apod.nasa.gov', path='/apod/image/1709/BT5643s.jpg', params='', query='', fragment='')\n",
    "```\n",
    "The ParseResult object contains the various components of the URL.  The path element contains the path and the filename.  The call to the .filename_without_ext property returns just the filename without the extension:\n",
    "\n",
    "```py\n",
    "@property\n",
    "def filename_without_ext(self):\n",
    "    filename = os.path.splitext(os.path.basename(self._parsed.path))[0]\n",
    "    return filename\n",
    "```\n",
    "The call to os.path.basename returns only the filename portion of the path (including the extension). `os.path.splittext()` then separates the filename and the extension, and the function returns the first element of that tuple/list (the filename)."
   ]
  },
  {
   "attachments": {},
   "cell_type": "markdown",
   "metadata": {},
   "source": [
    "## **Determining the type of content for a URL**"
   ]
  },
  {
   "attachments": {},
   "cell_type": "markdown",
   "metadata": {},
   "source": [
    "When performing a `GET` requests for content from a web server, the web server will return a number of headers, one of which identities the type of the content from the perspective of the web server.  In this recipe we learn to use that to determine what the web server considers the type of the content."
   ]
  },
  {
   "attachments": {},
   "cell_type": "markdown",
   "metadata": {},
   "source": [
    "### **How to do it**"
   ]
  },
  {
   "attachments": {},
   "cell_type": "markdown",
   "metadata": {},
   "source": [
    "We prioceed  as follows:"
   ]
  },
  {
   "cell_type": "code",
   "execution_count": 4,
   "metadata": {},
   "outputs": [
    {
     "name": "stdout",
     "output_type": "stream",
     "text": [
      "Reading URL: https://apod.nasa.gov/apod/image/1709/BT5643s.jpg\n",
      "Read 171014 bytes\n",
      "The content type is: image/jpeg\n"
     ]
    }
   ],
   "source": [
    "util = URLUtility(const.ApodEclipseImage())\n",
    "print(\"The content type is: \" + util.contenttype)"
   ]
  },
  {
   "attachments": {},
   "cell_type": "markdown",
   "metadata": {},
   "source": [
    "### **How it works**"
   ]
  },
  {
   "attachments": {},
   "cell_type": "markdown",
   "metadata": {},
   "source": [
    "The `.contentype` property is implemented as follows:\n",
    "```py\n",
    "@property\n",
    "def contenttype(self):\n",
    "    self.ensure_response()\n",
    "    return self._response.headers['content-type']\n",
    "```\n",
    "The `.headers` property of the `_response` object is a **dictionary-like class of headers**.  The content-type key will retrieve the content-type specified by the server.  This call to the `ensure_response()` method simply ensures that the `.read()` function has been executed."
   ]
  },
  {
   "attachments": {},
   "cell_type": "markdown",
   "metadata": {},
   "source": [
    "### **There's more**"
   ]
  },
  {
   "attachments": {},
   "cell_type": "markdown",
   "metadata": {},
   "source": [
    "The **headers in a response contain a wealth of information.  If we look more closely at the headers property of the response**, we can see the following headers are returned:"
   ]
  },
  {
   "cell_type": "code",
   "execution_count": 5,
   "metadata": {},
   "outputs": [
    {
     "name": "stdout",
     "output_type": "stream",
     "text": [
      "Date\n",
      "Server\n",
      "X-Frame-Options\n",
      "Last-Modified\n",
      "ETag\n",
      "Accept-Ranges\n",
      "Content-Length\n",
      "Connection\n",
      "Content-Type\n",
      "Strict-Transport-Security\n",
      "Content-Security-Policy\n"
     ]
    }
   ],
   "source": [
    "import urllib\n",
    "\n",
    "response = urllib.request.urlopen(const.ApodEclipseImage())\n",
    "\n",
    "for header in response.headers: print(header)"
   ]
  },
  {
   "attachments": {},
   "cell_type": "markdown",
   "metadata": {},
   "source": [
    "And we can see the values for each of these headers."
   ]
  },
  {
   "cell_type": "code",
   "execution_count": 6,
   "metadata": {},
   "outputs": [
    {
     "name": "stdout",
     "output_type": "stream",
     "text": [
      "Date ==> Tue, 10 Jan 2023 14:13:15 GMT\n",
      "Server ==> WebServer/1.0\n",
      "X-Frame-Options ==> sameorigin\n",
      "Last-Modified ==> Thu, 31 Aug 2017 20:26:32 GMT\n",
      "ETag ==> \"547bb44-29c06-5581275ce2b86\"\n",
      "Accept-Ranges ==> bytes\n",
      "Content-Length ==> 171014\n",
      "Connection ==> close\n",
      "Content-Type ==> image/jpeg\n",
      "Strict-Transport-Security ==> max-age=31536000; includeSubDomains\n",
      "Content-Security-Policy ==> upgrade-insecure-requests\n"
     ]
    }
   ],
   "source": [
    "for header in response.headers: print(header + \" ==> \" + response.headers[header])"
   ]
  },
  {
   "attachments": {},
   "cell_type": "markdown",
   "metadata": {},
   "source": [
    "## **Determining the file extension from a content/type**"
   ]
  },
  {
   "attachments": {},
   "cell_type": "markdown",
   "metadata": {},
   "source": [
    "It is good practice to use the `content-type` header to determine the type of content, and to determine the extension to use for storing the content as a file."
   ]
  },
  {
   "attachments": {},
   "cell_type": "markdown",
   "metadata": {},
   "source": [
    "### **How to do it**"
   ]
  },
  {
   "cell_type": "code",
   "execution_count": 7,
   "metadata": {},
   "outputs": [
    {
     "name": "stdout",
     "output_type": "stream",
     "text": [
      "Reading URL: https://apod.nasa.gov/apod/image/1709/BT5643s.jpg\n",
      "Read 171014 bytes\n",
      "Filename from content-type : .jpg\n",
      "Filename from url : .jpg\n"
     ]
    }
   ],
   "source": [
    "util = URLUtility(const.ApodEclipseImage())\n",
    "print(\"Filename from content-type : \" + util.extension_from_contenttype)\n",
    "print(\"Filename from url : \" + util.extension_from_url)"
   ]
  },
  {
   "attachments": {},
   "cell_type": "markdown",
   "metadata": {},
   "source": [
    "This reports **both the extension determined from the file type, and also from the URL.  These can be different, but in this case they are the same**."
   ]
  },
  {
   "attachments": {},
   "cell_type": "markdown",
   "metadata": {},
   "source": [
    "### **How it works**"
   ]
  },
  {
   "attachments": {},
   "cell_type": "markdown",
   "metadata": {},
   "source": [
    "The following is the implementation of the `.extension_from_contenttype` property:\n",
    "```python\n",
    "@property\n",
    "def extension_from_contenttype(self):\n",
    "    self.ensure_response()\n",
    "\n",
    "    map = const.ContentTypeToExtensions()\n",
    "    if self.contenttype in map:\n",
    "        return map[self.contenttype]\n",
    "    return None\n",
    "```\n",
    "\n",
    "The first line ensures that we have read the response from the URL.  The function then uses a python dictionary, defined in the const module, which contains a dictionary of content-types to extension:\n",
    "\n",
    "```py\n",
    "def ContentTypeToExtensions():\n",
    "    return {\n",
    "        \"image/jpeg\": \".jpg\",\n",
    "        \"image/jpg\": \".jpg\",\n",
    "        \"image/png\": \".png\"\n",
    "    }\n",
    "```\n",
    "If the content type is in the dictionary, then the corresponding value will be returned.  Otherwise, None is returned.\n",
    "\n",
    "Note the corresponding property, `.extension_from_url`:\n",
    "\n",
    "```py\n",
    "@property\n",
    "def extension_from_url(self):\n",
    "    ext = os.path.splitext(os.path.basename(self._parsed.path))[1]\n",
    "    return ext\n",
    "```\n",
    "This uses the same technique as the .filename property to parse the URL, but instead returns the `[1]` element, which represents the extension instead of the base filename."
   ]
  },
  {
   "attachments": {},
   "cell_type": "markdown",
   "metadata": {},
   "source": [
    "### **There's more**"
   ]
  },
  {
   "attachments": {},
   "cell_type": "markdown",
   "metadata": {},
   "source": [
    "As stated, it's best to use the content-type header to determine an extension for storing the file locally.  There are other techniques than what is provided here, but this is the easiest."
   ]
  },
  {
   "attachments": {},
   "cell_type": "markdown",
   "metadata": {},
   "source": [
    "## **Downloading and saving images to the local file system**"
   ]
  },
  {
   "attachments": {},
   "cell_type": "markdown",
   "metadata": {},
   "source": [
    "Sometimes when scraping we just download and parse data, such as HTML, to extract some data, and then throw out what we read.  Other times, we want to keep the downloaded content by storing it as a file."
   ]
  },
  {
   "attachments": {},
   "cell_type": "markdown",
   "metadata": {},
   "source": [
    "### **How to do it**"
   ]
  },
  {
   "cell_type": "code",
   "execution_count": 15,
   "metadata": {},
   "outputs": [
    {
     "name": "stdout",
     "output_type": "stream",
     "text": [
      "Reading URL: https://apod.nasa.gov/apod/image/1709/BT5643s.jpg\n",
      "Read 171014 bytes\n",
      "Attempting to write 171014 bytes to BT5643s.jpg:\n",
      "The write was successful\n"
     ]
    }
   ],
   "source": [
    "import glob\n",
    "from posixpath import expanduser\n",
    "from core.file_blob_writer import FileBlobWriter\n",
    "\n",
    "# download the image\n",
    "item = URLUtility(const.ApodEclipseImage())\n",
    "\n",
    "# create a file writer to write the data\n",
    "FileBlobWriter(expanduser(\"./\")).write(item.filename, item.data)"
   ]
  },
  {
   "attachments": {},
   "cell_type": "markdown",
   "metadata": {},
   "source": [
    "### **How it works**"
   ]
  },
  {
   "attachments": {},
   "cell_type": "markdown",
   "metadata": {},
   "source": [
    "The sample simply writes the data to a file using standard Python file access functions.  It does it in an object oriented manner by using a standard interface for writing data and with a file based implementation in the FileBlobWriter class:\n",
    "\n",
    "```py\n",
    "\"\"\" Implements the IBlobWriter interface to write the blob to a file \"\"\"\n",
    "\n",
    "from core.i_blob_writer import IBlobWriter\n",
    "\n",
    "class FileBlobWriter(IBlobWriter):\n",
    "    def __init__(self, location):\n",
    "        self._location = location\n",
    "\n",
    "    def write(self, filename, contents):\n",
    "        full_filename = self._location + \"/\" + filename\n",
    "        print (\"Attempting to write {0} bytes to {1}:\".format(len(contents), filename))\n",
    "\n",
    "        with open(full_filename, 'wb') as outfile:\n",
    "            outfile.write(contents)\n",
    "\n",
    "        print(\"The write was successful\")\n",
    "```\n",
    "The class is passed a string representing the directory where the file should be placed. The data is actually written during a later call to the `.write()` method.  This method merges the filename and `directory(_location)`, and then opens/creates the file and writes the bytes. The `with` statement ensures that the file is closed."
   ]
  },
  {
   "attachments": {},
   "cell_type": "markdown",
   "metadata": {},
   "source": [
    "### **There's more**"
   ]
  },
  {
   "attachments": {},
   "cell_type": "markdown",
   "metadata": {},
   "source": [
    "This write could have simply been handled using a function that wraps the code.  This object will be reused throughout this chapter. We could use the duck-typing of python, or just a function, but the clarity of interfaces is easier.  Speaking of that, the following is the definition of this interface:\n",
    "\n",
    "```py\n",
    "\"\"\" Defines the interface for writing a blob of data to storage \"\"\"\n",
    "\n",
    "from interface import Interface\n",
    "\n",
    "class IBlobWriter(Interface):\n",
    "   def write(self, filename, contents):\n",
    "      pass\n",
    "```\n",
    "We will also see another implementation of this interface that lets us store files in S3.  Through this type of implementation, through interface inheritance, we can easily substitute implementations."
   ]
  },
  {
   "attachments": {},
   "cell_type": "markdown",
   "metadata": {},
   "source": [
    "## **Taking a screenshot of a website**"
   ]
  },
  {
   "attachments": {},
   "cell_type": "markdown",
   "metadata": {},
   "source": [
    "### **How to do it**"
   ]
  },
  {
   "cell_type": "code",
   "execution_count": 16,
   "metadata": {},
   "outputs": [
    {
     "name": "stdout",
     "output_type": "stream",
     "text": [
      "Capturing website screenshot of: http://espn.go.com\n"
     ]
    },
    {
     "ename": "AttributeError",
     "evalue": "module 'selenium.webdriver' has no attribute 'PhantomJS'",
     "output_type": "error",
     "traceback": [
      "\u001b[0;31m---------------------------------------------------------------------------\u001b[0m",
      "\u001b[0;31mAttributeError\u001b[0m                            Traceback (most recent call last)",
      "Cell \u001b[0;32mIn[16], line 6\u001b[0m\n\u001b[1;32m      3\u001b[0m \u001b[39mfrom\u001b[39;00m \u001b[39mos\u001b[39;00m\u001b[39m.\u001b[39;00m\u001b[39mpath\u001b[39;00m \u001b[39mimport\u001b[39;00m expanduser\n\u001b[1;32m      5\u001b[0m \u001b[39m# get the screenshot\u001b[39;00m\n\u001b[0;32m----> 6\u001b[0m image_bytes \u001b[39m=\u001b[39m WebsiteScreenshotGenerator()\u001b[39m.\u001b[39;49mcapture(\u001b[39m\"\u001b[39;49m\u001b[39mhttp://espn.go.com\u001b[39;49m\u001b[39m\"\u001b[39;49m, \u001b[39m500\u001b[39;49m, \u001b[39m500\u001b[39;49m)\u001b[39m.\u001b[39mimage_bytes\n\u001b[1;32m      8\u001b[0m \u001b[39m# save it to a file\u001b[39;00m\n\u001b[1;32m      9\u001b[0m FileBlobWriter(expanduser(\u001b[39m\"\u001b[39m\u001b[39m./\u001b[39m\u001b[39m\"\u001b[39m))\u001b[39m.\u001b[39mwrite(\u001b[39m\"\u001b[39m\u001b[39mwebsite_screenshot.png\u001b[39m\u001b[39m\"\u001b[39m, image_bytes)\n",
      "File \u001b[0;32m~/documents/web-scraping-cookbook/4-working-with-images-audios-and-other-assets/core/website_screenshot_generator.py:12\u001b[0m, in \u001b[0;36mWebsiteScreenshotGenerator.capture\u001b[0;34m(self, url, width, height, crop)\u001b[0m\n\u001b[1;32m     10\u001b[0m \u001b[39mdef\u001b[39;00m \u001b[39mcapture\u001b[39m(\u001b[39mself\u001b[39m, url, width, height, crop\u001b[39m=\u001b[39m\u001b[39mTrue\u001b[39;00m):\n\u001b[1;32m     11\u001b[0m     \u001b[39mprint\u001b[39m (\u001b[39m\"\u001b[39m\u001b[39mCapturing website screenshot of: \u001b[39m\u001b[39m\"\u001b[39m \u001b[39m+\u001b[39m url)\n\u001b[0;32m---> 12\u001b[0m     driver \u001b[39m=\u001b[39m webdriver\u001b[39m.\u001b[39;49mPhantomJS()\n\u001b[1;32m     14\u001b[0m     \u001b[39mif\u001b[39;00m width \u001b[39mand\u001b[39;00m height:\n\u001b[1;32m     15\u001b[0m         driver\u001b[39m.\u001b[39mset_window_size(width, height)\n",
      "\u001b[0;31mAttributeError\u001b[0m: module 'selenium.webdriver' has no attribute 'PhantomJS'"
     ]
    }
   ],
   "source": [
    "from core.website_screenshot_generator import WebsiteScreenshotGenerator\n",
    "from core.file_blob_writer import FileBlobWriter\n",
    "from os.path import expanduser\n",
    "\n",
    "# get the screenshot\n",
    "image_bytes = WebsiteScreenshotGenerator().capture(\"http://espn.go.com\", 500, 500).image_bytes\n",
    "\n",
    "# save it to a file\n",
    "FileBlobWriter(expanduser(\"./\")).write(\"website_screenshot.png\", image_bytes)"
   ]
  }
 ],
 "metadata": {
  "kernelspec": {
   "display_name": "scraping",
   "language": "python",
   "name": "python3"
  },
  "language_info": {
   "codemirror_mode": {
    "name": "ipython",
    "version": 3
   },
   "file_extension": ".py",
   "mimetype": "text/x-python",
   "name": "python",
   "nbconvert_exporter": "python",
   "pygments_lexer": "ipython3",
   "version": "3.10.8"
  },
  "orig_nbformat": 4,
  "vscode": {
   "interpreter": {
    "hash": "e2e900357f7d7f0420973cc0a3db668cd1358155e01ada4ae7b047d426ff3a9e"
   }
  }
 },
 "nbformat": 4,
 "nbformat_minor": 2
}
