{
 "cells": [
  {
   "attachments": {},
   "cell_type": "markdown",
   "metadata": {},
   "source": [
    "# Working with images, audio, and other assets"
   ]
  },
  {
   "attachments": {},
   "cell_type": "markdown",
   "metadata": {},
   "source": [
    "## **Downloading media content from the web**"
   ]
  },
  {
   "attachments": {},
   "cell_type": "markdown",
   "metadata": {},
   "source": [
    "Downloading media content from the web is a simple process: use Requests or another library and download it just like you would HTML content."
   ]
  },
  {
   "attachments": {},
   "cell_type": "markdown",
   "metadata": {},
   "source": [
    "### **Getting ready**"
   ]
  },
  {
   "attachments": {},
   "cell_type": "markdown",
   "metadata": {},
   "source": [
    "There is a class named `URLUtility` in the `urls.py` mdoule in the util folder of the solution.  This class handles several of the scenarios in this chapter with downloading and parsing URLs. We will be using this class in this recipe and a few others"
   ]
  },
  {
   "attachments": {},
   "cell_type": "markdown",
   "metadata": {},
   "source": [
    "### **How to do it**"
   ]
  },
  {
   "cell_type": "code",
   "execution_count": 1,
   "metadata": {},
   "outputs": [
    {
     "name": "stdout",
     "output_type": "stream",
     "text": [
      "Reading URL: https://apod.nasa.gov/apod/image/1709/BT5643s.jpg\n",
      "Read 171014 bytes\n",
      "171014\n"
     ]
    }
   ],
   "source": [
    "import const\n",
    "from urls import URLUtility\n",
    "\n",
    "util = URLUtility(const.ApodEclipseImage())\n",
    "print(len(util.data))"
   ]
  },
  {
   "attachments": {},
   "cell_type": "markdown",
   "metadata": {},
   "source": [
    "## **Parsing a URL with urllib to get the filename**"
   ]
  },
  {
   "attachments": {},
   "cell_type": "markdown",
   "metadata": {},
   "source": [
    "When downloading content from a URL, we often want to save it in a file.  Often it is good enough to save the file in a file with a name found in the URL.  But the URL consists of a number of fragments, so how can we find the actual filename from the URL, especially where there are often many parameters after the file name?"
   ]
  },
  {
   "attachments": {},
   "cell_type": "markdown",
   "metadata": {},
   "source": [
    "### **How to do it**"
   ]
  },
  {
   "cell_type": "code",
   "execution_count": 2,
   "metadata": {},
   "outputs": [
    {
     "name": "stdout",
     "output_type": "stream",
     "text": [
      "Reading URL: https://apod.nasa.gov/apod/image/1709/BT5643s.jpg\n",
      "Read 171014 bytes\n",
      "BT5643s\n"
     ]
    }
   ],
   "source": [
    "util = URLUtility(const.ApodEclipseImage())\n",
    "print(util.filename_without_ext)"
   ]
  },
  {
   "attachments": {},
   "cell_type": "markdown",
   "metadata": {},
   "source": [
    "### **How it works**"
   ]
  },
  {
   "attachments": {},
   "cell_type": "markdown",
   "metadata": {},
   "source": [
    "In the constructor for URLUtility, there is a call to urlib.parse.urlparse.  The following demonstrates using the function interactively:\n",
    "\n",
    "```py\n",
    "parsed = urlparse(const.ApodEclipseImage())\n",
    "parsed\n",
    "```\n",
    "ParseResult(scheme='https', netloc='apod.nasa.gov', path='/apod/image/1709/BT5643s.jpg', params='', query='', fragment='')\n",
    "The ParseResult object contains the various components of the URL.  The path element contains the path and the filename.  The call to the .filename_without_ext property returns just the filename without the extension:\n",
    "\n",
    "```py\n",
    "@property\n",
    "def filename_without_ext(self):\n",
    "    filename = os.path.splitext(os.path.basename(self._parsed.path))[0]\n",
    "    return filename\n",
    "```\n",
    "The call to os.path.basename returns only the filename portion of the path (including the extension). `os.path.splittext()` then separates the filename and the extension, and the function returns the first element of that tuple/list (the filename)."
   ]
  },
  {
   "attachments": {},
   "cell_type": "markdown",
   "metadata": {},
   "source": [
    "## **Determining the type of content for a URL**"
   ]
  },
  {
   "attachments": {},
   "cell_type": "markdown",
   "metadata": {},
   "source": [
    "When performing a `GET` requests for content from a web server, the web server will return a number of headers, one of which identities the type of the content from the perspective of the web server.  In this recipe we learn to use that to determine what the web server considers the type of the content."
   ]
  },
  {
   "attachments": {},
   "cell_type": "markdown",
   "metadata": {},
   "source": [
    "### **How to do it**"
   ]
  },
  {
   "attachments": {},
   "cell_type": "markdown",
   "metadata": {},
   "source": [
    "We prioceed  as follows:"
   ]
  },
  {
   "cell_type": "code",
   "execution_count": 3,
   "metadata": {},
   "outputs": [
    {
     "name": "stdout",
     "output_type": "stream",
     "text": [
      "Reading URL: https://apod.nasa.gov/apod/image/1709/BT5643s.jpg\n",
      "Read 171014 bytes\n",
      "The content type is: image/jpeg\n"
     ]
    }
   ],
   "source": [
    "util = URLUtility(const.ApodEclipseImage())\n",
    "print(\"The content type is: \" + util.contenttype)"
   ]
  },
  {
   "attachments": {},
   "cell_type": "markdown",
   "metadata": {},
   "source": [
    "### **How it works**"
   ]
  },
  {
   "attachments": {},
   "cell_type": "markdown",
   "metadata": {},
   "source": [
    "The `.contentype` property is implemented as follows:\n",
    "```py\n",
    "@property\n",
    "def contenttype(self):\n",
    "    self.ensure_response()\n",
    "    return self._response.headers['content-type']\n",
    "```\n",
    "The `.headers` property of the `_response` object is a **dictionary-like class of headers**.  The content-type key will retrieve the content-type specified by the server.  This call to the `ensure_response()` method simply ensures that the `.read()` function has been executed."
   ]
  },
  {
   "cell_type": "markdown",
   "metadata": {},
   "source": []
  }
 ],
 "metadata": {
  "kernelspec": {
   "display_name": "scraping",
   "language": "python",
   "name": "python3"
  },
  "language_info": {
   "codemirror_mode": {
    "name": "ipython",
    "version": 3
   },
   "file_extension": ".py",
   "mimetype": "text/x-python",
   "name": "python",
   "nbconvert_exporter": "python",
   "pygments_lexer": "ipython3",
   "version": "3.10.8 (main, Nov 24 2022, 14:13:03) [GCC 11.2.0]"
  },
  "orig_nbformat": 4,
  "vscode": {
   "interpreter": {
    "hash": "e2e900357f7d7f0420973cc0a3db668cd1358155e01ada4ae7b047d426ff3a9e"
   }
  }
 },
 "nbformat": 4,
 "nbformat_minor": 2
}
